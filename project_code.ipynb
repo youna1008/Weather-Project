{
 "cells": [
  {
   "cell_type": "code",
   "execution_count": 3,
   "id": "724c282b",
   "metadata": {},
   "outputs": [],
   "source": [
    "import pickle\n",
    "\n",
    "with open('./coms_with_weather_dataset.pkl','rb') as f:\n",
    "    data = pickle.load(f)  "
   ]
  },
  {
   "cell_type": "code",
   "execution_count": 3,
   "id": "2b3c6436",
   "metadata": {},
   "outputs": [
    {
     "data": {
      "text/plain": [
       "25744"
      ]
     },
     "execution_count": 3,
     "metadata": {},
     "output_type": "execute_result"
    }
   ],
   "source": [
    "len(data)"
   ]
  },
  {
   "cell_type": "code",
   "execution_count": 3,
   "id": "9be1870c",
   "metadata": {
    "scrolled": false
   },
   "outputs": [
    {
     "data": {
      "text/plain": [
       "'201102240000'"
      ]
     },
     "execution_count": 3,
     "metadata": {},
     "output_type": "execute_result"
    }
   ],
   "source": [
    "data[0][0]#촬영일시"
   ]
  },
  {
   "cell_type": "code",
   "execution_count": 5,
   "id": "5ec6fac8",
   "metadata": {
    "scrolled": true
   },
   "outputs": [
    {
     "data": {
      "text/plain": [
       "3"
      ]
     },
     "execution_count": 5,
     "metadata": {},
     "output_type": "execute_result"
    }
   ],
   "source": [
    "len(data[0][1])#영상데이터"
   ]
  },
  {
   "cell_type": "code",
   "execution_count": 16,
   "id": "f31965e4",
   "metadata": {},
   "outputs": [
    {
     "data": {
      "text/plain": [
       "(3, 172, 200)"
      ]
     },
     "execution_count": 16,
     "metadata": {},
     "output_type": "execute_result"
    }
   ],
   "source": [
    "data[0][1].shape"
   ]
  },
  {
   "cell_type": "code",
   "execution_count": 7,
   "id": "82fb3c9e",
   "metadata": {
    "scrolled": false
   },
   "outputs": [
    {
     "data": {
      "text/plain": [
       "112"
      ]
     },
     "execution_count": 7,
     "metadata": {},
     "output_type": "execute_result"
    }
   ],
   "source": [
    "len(data[0][2])#기상데이터"
   ]
  },
  {
   "cell_type": "code",
   "execution_count": 6,
   "id": "240bc0b2",
   "metadata": {
    "scrolled": true
   },
   "outputs": [
    {
     "data": {
      "text/plain": [
       "[78.2,\n",
       " 32.1,\n",
       " 57.0,\n",
       " 77.2,\n",
       " 69.8,\n",
       " 78.3,\n",
       " 76.5,\n",
       " 55.0,\n",
       " 62.1,\n",
       " 79.6,\n",
       " 75.6,\n",
       " 76.9,\n",
       " 48.7,\n",
       " 82.8,\n",
       " 75.7,\n",
       " 75.7,\n",
       " 34.0,\n",
       " 27.0,\n",
       " 20.0,\n",
       " 20.0,\n",
       " 25.0,\n",
       " 29.0,\n",
       " 32.0,\n",
       " 27.0,\n",
       " 29.0,\n",
       " 16.0,\n",
       " 0.0,\n",
       " 0.0,\n",
       " 25.0,\n",
       " 16.0,\n",
       " 20.0,\n",
       " 0.0,\n",
       " 2.0,\n",
       " 7.0,\n",
       " 2.0,\n",
       " 3.0,\n",
       " 12.0,\n",
       " 1.0,\n",
       " 1.0,\n",
       " 5.0,\n",
       " 2.0,\n",
       " 1.0,\n",
       " 0.0,\n",
       " 0.0,\n",
       " 8.0,\n",
       " 1.0,\n",
       " 3.0,\n",
       " 0.0,\n",
       " 1011.4,\n",
       " 1013.4,\n",
       " 1009.9,\n",
       " 1012.1,\n",
       " 990.3,\n",
       " 1014.4,\n",
       " 1013.2,\n",
       " 1019.0,\n",
       " 1013.4,\n",
       " 1015.2,\n",
       " 1014.9,\n",
       " 1013.0,\n",
       " 1010.9,\n",
       " 1016.7,\n",
       " 1012.2,\n",
       " 1018.0,\n",
       " 1021.2,\n",
       " 1016.6,\n",
       " 1020.5,\n",
       " 1020.7,\n",
       " 1016.8,\n",
       " 1021.5,\n",
       " 1021.1,\n",
       " 1019.2,\n",
       " 1020.5,\n",
       " 1022.8,\n",
       " 1019.2,\n",
       " 1022.3,\n",
       " 1019.3,\n",
       " 1021.3,\n",
       " 1021.2,\n",
       " 1020.4,\n",
       " -4.6,\n",
       " -6.6,\n",
       " -3.0,\n",
       " -0.3,\n",
       " 3.3,\n",
       " -0.8,\n",
       " -1.7,\n",
       " -0.2,\n",
       " -0.7,\n",
       " 0.7,\n",
       " 2.7,\n",
       " 1.0,\n",
       " 0.9,\n",
       " 3.5,\n",
       " 3.5,\n",
       " 6.2,\n",
       " -1.3,\n",
       " 9.2,\n",
       " 4.8,\n",
       " 3.3,\n",
       " 8.5,\n",
       " 2.6,\n",
       " 2.0,\n",
       " 8.3,\n",
       " 6.0,\n",
       " 3.9,\n",
       " 6.7,\n",
       " 4.7,\n",
       " 11.3,\n",
       " 6.2,\n",
       " 7.5,\n",
       " 10.3]"
      ]
     },
     "execution_count": 6,
     "metadata": {},
     "output_type": "execute_result"
    }
   ],
   "source": [
    "list(data[0][2]) # 기상청 데이터 , 예시로 온도 , 기압 , 풍향 or기온"
   ]
  },
  {
   "cell_type": "code",
   "execution_count": 9,
   "id": "fae103fd",
   "metadata": {
    "scrolled": true
   },
   "outputs": [
    {
     "data": {
      "text/plain": [
       "(3, 172, 200)"
      ]
     },
     "execution_count": 9,
     "metadata": {},
     "output_type": "execute_result"
    }
   ],
   "source": [
    "data[0][1].shape # 3개의 흑백 이미지 "
   ]
  },
  {
   "cell_type": "markdown",
   "id": "70780458",
   "metadata": {},
   "source": [
    "# 1. 데이터 전처리"
   ]
  },
  {
   "cell_type": "code",
   "execution_count": 7,
   "id": "01ba6378",
   "metadata": {},
   "outputs": [],
   "source": [
    "summer_data =[]\n",
    "winter_data = []\n",
    "fall_data = []\n",
    "spring_data = []"
   ]
  },
  {
   "cell_type": "code",
   "execution_count": 9,
   "id": "60b0d94b",
   "metadata": {},
   "outputs": [],
   "source": [
    "from tqdm import tqdm"
   ]
  },
  {
   "cell_type": "code",
   "execution_count": 10,
   "id": "6b673806",
   "metadata": {},
   "outputs": [
    {
     "name": "stderr",
     "output_type": "stream",
     "text": [
      "100%|███████████████████████████████████████████████████████████████████████| 25744/25744 [00:00<00:00, 1429171.07it/s]\n"
     ]
    }
   ],
   "source": [
    "for data_ in tqdm(data):\n",
    "    date = data_[0]\n",
    "    month = int(date[4:6])\n",
    "    \n",
    "    if month >=6 and month <=9:\n",
    "        summer_data.append(data_)\n",
    "    elif month >=10 and month <= 11:\n",
    "        fall_data.append(data_)\n",
    "    elif month == 12 or month ==1 or month==2:\n",
    "        winter_data.append(data_)\n",
    "    else:\n",
    "        spring_data.append(data_)"
   ]
  },
  {
   "cell_type": "code",
   "execution_count": 12,
   "id": "83385069",
   "metadata": {
    "scrolled": true
   },
   "outputs": [
    {
     "name": "stdout",
     "output_type": "stream",
     "text": [
      "8554\n",
      "6201\n",
      "4275\n",
      "6714\n"
     ]
    }
   ],
   "source": [
    "print(len(summer_data))\n",
    "print(len(winter_data))\n",
    "print(len(fall_data))\n",
    "print(len(spring_data))"
   ]
  },
  {
   "cell_type": "code",
   "execution_count": 17,
   "id": "6ecf0db2",
   "metadata": {},
   "outputs": [],
   "source": [
    "import torch\n",
    "import torch.nn as nn\n",
    "import torch.optim as optim\n",
    "from torch.utils.data import DataLoader, TensorDataset\n",
    "from sklearn.model_selection import train_test_split\n",
    "import numpy as np"
   ]
  },
  {
   "cell_type": "code",
   "execution_count": 62,
   "id": "3152bb00",
   "metadata": {},
   "outputs": [],
   "source": [
    "from torch.nn import functional as F"
   ]
  },
  {
   "cell_type": "code",
   "execution_count": 28,
   "id": "d19a094b",
   "metadata": {},
   "outputs": [],
   "source": [
    "import random"
   ]
  },
  {
   "cell_type": "code",
   "execution_count": 29,
   "id": "55bf2378",
   "metadata": {
    "scrolled": true
   },
   "outputs": [],
   "source": [
    "random.shuffle(summer_data)"
   ]
  },
  {
   "cell_type": "code",
   "execution_count": 32,
   "id": "40d27b04",
   "metadata": {
    "scrolled": true
   },
   "outputs": [],
   "source": [
    "random.shuffle(winter_data)"
   ]
  },
  {
   "cell_type": "code",
   "execution_count": 33,
   "id": "8eca044c",
   "metadata": {
    "scrolled": true
   },
   "outputs": [],
   "source": [
    "random.shuffle(fall_data)"
   ]
  },
  {
   "cell_type": "code",
   "execution_count": 34,
   "id": "486d1833",
   "metadata": {
    "scrolled": true
   },
   "outputs": [],
   "source": [
    "random.shuffle(spring_data)"
   ]
  },
  {
   "cell_type": "code",
   "execution_count": 8,
   "id": "21dd538e",
   "metadata": {},
   "outputs": [],
   "source": [
    "import pickle"
   ]
  },
  {
   "cell_type": "code",
   "execution_count": 35,
   "id": "b1dea76c",
   "metadata": {},
   "outputs": [],
   "source": [
    "with open('summer.pickle', 'wb') as f:\n",
    "    pickle.dump(summer_data, f)\n",
    "with open('winter.pickle', 'wb') as f:\n",
    "    pickle.dump(winter_data, f)\n",
    "with open('fall.pickle', 'wb') as f:\n",
    "    pickle.dump(fall_data, f)\n",
    "with open('spring.pickle', 'wb') as f:\n",
    "    pickle.dump(spring_data, f)"
   ]
  },
  {
   "cell_type": "markdown",
   "id": "d8fdbbbe",
   "metadata": {},
   "source": [
    "# 2. 차원축소"
   ]
  },
  {
   "cell_type": "code",
   "execution_count": 41,
   "id": "11db585f",
   "metadata": {},
   "outputs": [],
   "source": [
    "from torch.utils.data import Dataset, DataLoader\n",
    "class ComsDataset(Dataset):\n",
    "    def __init__(self, data):\n",
    "         self.data = data\n",
    "    def __len__(self):\n",
    "        return len(self.data)\n",
    "    def __getitem__(self, index):\n",
    "        return self.data[index]\n"
   ]
  },
  {
   "cell_type": "code",
   "execution_count": 37,
   "id": "99773bea",
   "metadata": {},
   "outputs": [],
   "source": [
    "IMG_HEIGHT = 172\n",
    "IMG_WIDTH = 200\n",
    "EMBEDDING_SIZE = 256\n",
    "\n",
    "encoder = nn.Sequential(\n",
    "     nn.Conv2d(3, 10, kernel_size=3, padding=1),\n",
    "     nn.ReLU(),\n",
    "     nn.MaxPool2d(kernel_size=2),\n",
    "     nn.Conv2d(10, 20, kernel_size=3, padding=1),\n",
    "     nn.ReLU(),\n",
    "     nn.MaxPool2d(kernel_size=2),\n",
    "\n",
    "     nn.Conv2d(20, 30, kernel_size=3, padding=1),\n",
    "     nn.ReLU(),\n",
    "     nn.MaxPool2d(kernel_size=2),\n",
    "     nn.Flatten(),\n",
    "     nn.Linear(30*(IMG_HEIGHT >> 3)*(IMG_WIDTH >> 3), EMBEDDING_SIZE )\n",
    ").to(DEVICE)\n",
    "\n",
    "decoder = nn.Sequential(\n",
    "     nn.ReLU(),\n",
    "     nn.Linear(EMBEDDING_SIZE , 30*(IMG_HEIGHT >> 3)*(IMG_WIDTH >> 3)),\n",
    "     nn.ReLU(),\n",
    "     nn.Unflatten(1, (30, IMG_HEIGHT >> 3, IMG_WIDTH >> 3)),\n",
    "     nn.Upsample((IMG_HEIGHT >> 2, IMG_WIDTH >> 2)),\n",
    "     nn.Conv2d(30, 20, kernel_size=3, padding=1),\n",
    "     nn.ReLU(),\n",
    "\n",
    "     nn.Upsample((IMG_HEIGHT >> 1, IMG_WIDTH >> 1)),\n",
    "     nn.Conv2d(20, 10, kernel_size=3, padding=1),\n",
    "     nn.ReLU(),\n",
    "     nn.Upsample((IMG_HEIGHT, IMG_WIDTH)),\n",
    "     nn.Conv2d(10, 3, kernel_size=3, padding=1),\n",
    "     nn.ReLU()\n",
    ").to(DEVICE)"
   ]
  },
  {
   "cell_type": "code",
   "execution_count": 52,
   "id": "7805aacf",
   "metadata": {},
   "outputs": [],
   "source": [
    "class AutoEncoder(nn.Module):\n",
    "\n",
    "    def __init__(self, input_dims, max_dims, latent_dims, device='cpu'):\n",
    "        super(AutoEncoder, self).__init__()\n",
    "        self.device = device\n",
    "\n",
    "        encoder_layers = []\n",
    "        last_idx = len(list(range(int(np.log2(max_dims)), int(np.log2(latent_dims))-1, -1))) - 1\n",
    "        for i, log_dim in enumerate(range(int(np.log2(max_dims)), int(np.log2(latent_dims))-1, -1)):\n",
    "            if i == 0:\n",
    "                # 입력 레이어\n",
    "                encoder_layers.append(nn.Linear(input_dims, 2**log_dim))\n",
    "                encoder_layers.append(nn.LeakyReLU())\n",
    "            elif i == last_idx:\n",
    "                # 마지막 인코더 레이어\n",
    "                encoder_layers.append(nn.Linear(2**(log_dim+1), 2**log_dim))\n",
    "            else:\n",
    "                # 중간 인코더 레이어\n",
    "                encoder_layers.append(nn.Linear(2**(log_dim+1), 2**log_dim))\n",
    "                encoder_layers.append(nn.LeakyReLU())\n",
    "\n",
    "        # 디코더 레이어 구성\n",
    "        decoder_layers = []\n",
    "        for i, log_dim in enumerate(range(int(np.log2(latent_dims)), int(np.log2(max_dims))+1)):\n",
    "            if i == 0:\n",
    "                # 첫 번째 디코더 레이어\n",
    "                decoder_layers.append(nn.Linear(2 ** log_dim, 2 ** (log_dim + 1)))\n",
    "                decoder_layers.append(nn.LeakyReLU())\n",
    "            elif i == last_idx:\n",
    "                # 출력 레이어\n",
    "                decoder_layers.append(nn.Linear(2 ** log_dim, input_dims))\n",
    "                decoder_layers.append(nn.Sigmoid())\n",
    "            else:\n",
    "                # 중간 디코더 레이어\n",
    "                decoder_layers.append(nn.Linear(2 ** log_dim, 2 ** (log_dim + 1)))\n",
    "                decoder_layers.append(nn.LeakyReLU())\n",
    "\n",
    "        self.encoder = nn.Sequential(*encoder_layers)\n",
    "        self.decoder = nn.Sequential(*decoder_layers)\n",
    "\n",
    "        self.to(self.device)\n",
    "\n",
    "    def forward(self, x):\n",
    "\n",
    "        x = x.to(self.device)\n",
    "        z = self.encoder(x)\n",
    "        recons = self.decoder(z)\n",
    "        return recons\n",
    "\n",
    "    def mse(self, x, recons, reduction='mean'):\n",
    "\n",
    "        x = x.to(self.device)\n",
    "        mse = F.mse_loss(x, recons, reduction=reduction)\n",
    "        if reduction == 'none':\n",
    "            mse = torch.mean(mse, dim=1)\n",
    "        return mse"
   ]
  },
  {
   "cell_type": "code",
   "execution_count": null,
   "id": "fd0a709e",
   "metadata": {},
   "outputs": [],
   "source": [
    "# 수치형 차원축소 모델 정의 "
   ]
  },
  {
   "cell_type": "code",
   "execution_count": 356,
   "id": "830be450",
   "metadata": {
    "scrolled": true
   },
   "outputs": [
    {
     "data": {
      "text/plain": [
       "AutoEncoder(\n",
       "  (encoder): Sequential(\n",
       "    (0): Linear(in_features=112, out_features=64, bias=True)\n",
       "    (1): LeakyReLU(negative_slope=0.01)\n",
       "    (2): Linear(in_features=64, out_features=32, bias=True)\n",
       "  )\n",
       "  (decoder): Sequential(\n",
       "    (0): Linear(in_features=32, out_features=64, bias=True)\n",
       "    (1): LeakyReLU(negative_slope=0.01)\n",
       "    (2): Linear(in_features=64, out_features=112, bias=True)\n",
       "    (3): Sigmoid()\n",
       "  )\n",
       ")"
      ]
     },
     "execution_count": 356,
     "metadata": {},
     "output_type": "execute_result"
    }
   ],
   "source": [
    "numerical_model"
   ]
  },
  {
   "cell_type": "code",
   "execution_count": 48,
   "id": "548945fe",
   "metadata": {},
   "outputs": [],
   "source": [
    "from itertools import chain\n"
   ]
  },
  {
   "cell_type": "code",
   "execution_count": 81,
   "id": "99b2b6ae",
   "metadata": {},
   "outputs": [],
   "source": [
    "name = ['summer_data','winter_data','fall_data','spring_data']"
   ]
  },
  {
   "cell_type": "code",
   "execution_count": 137,
   "id": "682bafc6",
   "metadata": {},
   "outputs": [
    {
     "name": "stderr",
     "output_type": "stream",
     "text": [
      "24it [01:19,  3.32s/it]\n",
      "24it [01:18,  3.28s/it]\n",
      "24it [01:18,  3.27s/it]\n",
      "24it [01:18,  3.26s/it]\n",
      "24it [01:18,  3.25s/it]\n",
      "24it [01:17,  3.25s/it]\n",
      "24it [01:18,  3.26s/it]\n",
      "24it [01:18,  3.27s/it]\n",
      "24it [01:18,  3.26s/it]\n",
      "24it [01:18,  3.28s/it]\n",
      "24it [01:18,  3.27s/it]\n",
      "24it [01:17,  3.25s/it]\n",
      "24it [01:17,  3.25s/it]\n",
      "24it [01:17,  3.25s/it]\n",
      "24it [01:18,  3.26s/it]\n",
      "24it [01:18,  3.26s/it]\n",
      "24it [01:18,  3.26s/it]\n",
      "24it [01:18,  3.26s/it]\n",
      "24it [01:18,  3.26s/it]\n",
      "24it [01:18,  3.26s/it]\n",
      "24it [01:17,  3.25s/it]\n",
      "24it [01:18,  3.26s/it]\n",
      "24it [01:19,  3.31s/it]\n",
      "24it [01:18,  3.27s/it]\n",
      "24it [01:18,  3.26s/it]\n",
      "24it [01:17,  3.25s/it]\n",
      "24it [01:18,  3.28s/it]\n",
      "24it [01:18,  3.28s/it]\n",
      "24it [01:17,  3.25s/it]\n",
      "24it [01:18,  3.26s/it]\n",
      "17it [00:56,  3.32s/it]\n",
      "17it [00:58,  3.41s/it]\n",
      "17it [00:57,  3.40s/it]\n",
      "17it [00:58,  3.41s/it]\n",
      "17it [00:57,  3.40s/it]\n",
      "17it [00:58,  3.43s/it]\n",
      "17it [00:57,  3.38s/it]\n",
      "17it [00:58,  3.41s/it]\n",
      "17it [00:58,  3.42s/it]\n",
      "17it [00:58,  3.43s/it]\n",
      "17it [00:57,  3.41s/it]\n",
      "17it [00:58,  3.44s/it]\n",
      "17it [00:58,  3.42s/it]\n",
      "17it [00:58,  3.42s/it]\n",
      "17it [00:57,  3.39s/it]\n",
      "17it [00:58,  3.43s/it]\n",
      "17it [00:57,  3.41s/it]\n",
      "17it [00:58,  3.43s/it]\n",
      "17it [00:58,  3.42s/it]\n",
      "17it [00:57,  3.41s/it]\n",
      "17it [00:58,  3.42s/it]\n",
      "17it [00:58,  3.43s/it]\n",
      "17it [00:57,  3.41s/it]\n",
      "17it [00:58,  3.43s/it]\n",
      "17it [00:57,  3.41s/it]\n",
      "17it [00:58,  3.43s/it]\n",
      "17it [00:58,  3.42s/it]\n",
      "17it [00:58,  3.43s/it]\n",
      "17it [00:58,  3.42s/it]\n",
      "17it [00:58,  3.43s/it]\n",
      "12it [00:38,  3.23s/it]\n",
      "12it [00:38,  3.22s/it]\n",
      "12it [00:38,  3.22s/it]\n",
      "12it [00:38,  3.22s/it]\n",
      "12it [00:38,  3.23s/it]\n",
      "12it [00:38,  3.21s/it]\n",
      "12it [00:38,  3.23s/it]\n",
      "12it [00:38,  3.21s/it]\n",
      "12it [00:38,  3.23s/it]\n",
      "12it [00:38,  3.23s/it]\n",
      "12it [00:38,  3.22s/it]\n",
      "12it [00:38,  3.22s/it]\n",
      "12it [00:38,  3.22s/it]\n",
      "12it [00:38,  3.21s/it]\n",
      "12it [00:38,  3.22s/it]\n",
      "12it [00:38,  3.24s/it]\n",
      "12it [00:38,  3.24s/it]\n",
      "12it [00:38,  3.21s/it]\n",
      "12it [00:38,  3.22s/it]\n",
      "12it [00:38,  3.22s/it]\n",
      "12it [00:38,  3.23s/it]\n",
      "12it [00:38,  3.22s/it]\n",
      "12it [00:38,  3.22s/it]\n",
      "12it [00:38,  3.22s/it]\n",
      "12it [00:38,  3.23s/it]\n",
      "12it [00:38,  3.22s/it]\n",
      "12it [00:38,  3.22s/it]\n",
      "12it [00:38,  3.23s/it]\n",
      "12it [00:38,  3.23s/it]\n",
      "12it [00:38,  3.23s/it]\n",
      "19it [01:03,  3.34s/it]\n",
      "19it [01:00,  3.16s/it]\n",
      "19it [00:59,  3.16s/it]\n",
      "19it [00:59,  3.15s/it]\n",
      "19it [01:00,  3.16s/it]\n",
      "19it [01:00,  3.17s/it]\n",
      "19it [01:00,  3.16s/it]\n",
      "19it [00:59,  3.15s/it]\n",
      "19it [01:00,  3.16s/it]\n",
      "19it [01:00,  3.17s/it]\n",
      "19it [00:59,  3.16s/it]\n",
      "19it [01:00,  3.16s/it]\n",
      "19it [01:00,  3.16s/it]\n",
      "19it [00:59,  3.15s/it]\n",
      "19it [01:00,  3.17s/it]\n",
      "19it [00:59,  3.15s/it]\n",
      "19it [01:00,  3.16s/it]\n",
      "19it [01:00,  3.17s/it]\n",
      "19it [01:00,  3.17s/it]\n",
      "19it [01:00,  3.16s/it]\n",
      "19it [00:59,  3.16s/it]\n",
      "19it [00:59,  3.16s/it]\n",
      "19it [01:00,  3.17s/it]\n",
      "19it [01:00,  3.16s/it]\n",
      "19it [01:00,  3.17s/it]\n",
      "19it [00:59,  3.14s/it]\n",
      "19it [01:00,  3.17s/it]\n",
      "19it [01:00,  3.16s/it]\n",
      "19it [01:00,  3.16s/it]\n",
      "19it [01:00,  3.17s/it]\n"
     ]
    }
   ],
   "source": [
    "for i,weather in enumerate([summer_data,winter_data,fall_data,spring_data]):\n",
    "    \n",
    "    # X에서 이미지만 추출하기 \n",
    "    \n",
    "    #print(X.shape)\n",
    "    #print(len(X))\n",
    "    len_ = int(len(weather)*0.7)\n",
    "    train  = weather[:(len_)]\n",
    "    test = weather[(len_):]\n",
    "    \n",
    "\n",
    "    coms_loader_train = DataLoader(\n",
    "         dataset=ComsDataset(train),\n",
    "         batch_size=256,\n",
    "         shuffle=False\n",
    "        )\n",
    "    coms_loader_test = DataLoader(\n",
    "         dataset=ComsDataset(test),\n",
    "         batch_size=256,\n",
    "         shuffle=False\n",
    "        )\n",
    "    \n",
    "    optim = torch.optim.Adam(chain(encoder.parameters(), decoder.parameters()), lr=0.001)\n",
    "    mse = nn.MSELoss()\n",
    "    \n",
    "    numerical_model = AutoEncoder(112, 64, 32, device=DEVICE) \n",
    "    optimizer_n = torch.optim.AdamW(numerical_model.parameters())\n",
    "    loss_history = []\n",
    "    for epoch in range(30):\n",
    "        loss_per_batch = []\n",
    "        for step, (date,img,prec) in tqdm(enumerate(coms_loader_train)):\n",
    "            x = img.to(DEVICE)\n",
    "            \n",
    "            x2 = prec.to(DEVICE).float()\n",
    "\n",
    "\n",
    "            e = encoder(x)\n",
    "            y = decoder(e)\n",
    "            \n",
    "            cost = mse(x, y)\n",
    "\n",
    "            \n",
    "            optim.zero_grad()\n",
    "            cost.backward()\n",
    "            optim.step()\n",
    "            #numerical\n",
    "            \n",
    "            recons = numerical_model(x2)\n",
    "            rce = numerical_model.mse(x2, recons)\n",
    "            optimizer_n.zero_grad()\n",
    "            rce.backward()\n",
    "            optimizer_n.step()\n",
    "            loss_per_batch.append(rce.item())\n",
    "        \n",
    "    loss_history.append(np.mean(loss_per_batch))\n",
    " \n",
    "\n",
    "    X_train_encoded2 = numerical_model.encoder(torch.FloatTensor([ i[2] for i in train]).to(DEVICE))\n",
    "    X_train_encoded2 = X_train_encoded2.to('cpu').detach().numpy()\n",
    "    X_test_encoded2 = numerical_model.encoder(torch.FloatTensor([ i[2] for i in test]).to(DEVICE))\n",
    "    X_test_encoded2 = X_test_encoded2.to('cpu').detach().numpy()\n",
    "    with torch.no_grad():\n",
    "\n",
    "        X_train_encoded = encoder(torch.FloatTensor([ i[1] for i in train]).to(DEVICE))\n",
    "        X_test_encoded = encoder(torch.FloatTensor([ i[1] for i in test]).to(DEVICE))\n",
    "        \n",
    "    X_train_encoded = X_train_encoded.to('cpu').detach().numpy()\n",
    "    X_test_encoded = X_test_encoded.to('cpu').detach().numpy()\n",
    "   \n",
    "    with open(f'{name[i]}_num_train.pickle', 'wb') as f:\n",
    "        pickle.dump(X_train_encoded2, f)\n",
    "    with open(f'{name[i]}_num_test.pickle', 'wb') as f:\n",
    "        pickle.dump(X_test_encoded2, f)\n",
    "    with open(f'{name[i]}_image_train.pickle', 'wb') as f:\n",
    "        pickle.dump(X_train_encoded, f)\n",
    "    with open(f'{name[i]}_image_test.pickle', 'wb') as f:\n",
    "        pickle.dump(X_test_encoded, f)\n",
    "    "
   ]
  },
  {
   "cell_type": "markdown",
   "id": "d507e22a",
   "metadata": {},
   "source": [
    "# 3. 클러스터링 & 4. 라벨링"
   ]
  },
  {
   "cell_type": "code",
   "execution_count": 84,
   "id": "113c94c1",
   "metadata": {},
   "outputs": [],
   "source": [
    "from sklearn.cluster import DBSCAN\n",
    "from sklearn.datasets import make_blobs\n",
    "import matplotlib.pyplot as plt\n",
    "from collections import Counter"
   ]
  },
  {
   "cell_type": "code",
   "execution_count": 138,
   "id": "c89c4021",
   "metadata": {},
   "outputs": [],
   "source": [
    "with open('summer_data_num_train.pickle', 'rb') as f:\n",
    "    summer_num_train = pickle.load(f)\n",
    "with open('summer_data_num_test.pickle', 'rb') as f:\n",
    "    summer_num_test = pickle.load(f)\n",
    "with open('spring_data_num_train.pickle', 'rb') as f:\n",
    "    spring_num_train = pickle.load(f)\n",
    "with open('spring_data_num_test.pickle', 'rb') as f:\n",
    "    spring_num_test = pickle.load(f)\n",
    "with open('fall_data_num_train.pickle', 'rb') as f:\n",
    "    fall_num_train = pickle.load(f)\n",
    "with open('fall_data_num_test.pickle', 'rb') as f:\n",
    "    fall_num_test = pickle.load(f)\n",
    "with open('winter_data_num_train.pickle', 'rb') as f:\n",
    "    winter_num_train = pickle.load(f)\n",
    "with open('winter_data_num_test.pickle', 'rb') as f:\n",
    "    winter_num_test = pickle.load(f)"
   ]
  },
  {
   "cell_type": "code",
   "execution_count": 139,
   "id": "5762d1df",
   "metadata": {},
   "outputs": [],
   "source": [
    "with open('summer_data_image_train.pickle', 'rb') as f:\n",
    "    summer_image_train = pickle.load(f)\n",
    "with open('summer_data_image_test.pickle', 'rb') as f:\n",
    "    summer_image_test = pickle.load(f)\n",
    "with open('spring_data_image_train.pickle', 'rb') as f:\n",
    "    spring_image_train = pickle.load(f)\n",
    "with open('spring_data_image_test.pickle', 'rb') as f:\n",
    "    spring_image_test = pickle.load(f)\n",
    "with open('fall_data_image_train.pickle', 'rb') as f:\n",
    "    fall_image_train = pickle.load(f)\n",
    "with open('fall_data_image_test.pickle', 'rb') as f:\n",
    "    fall_image_test = pickle.load(f)\n",
    "with open('winter_data_image_train.pickle', 'rb') as f:\n",
    "    winter_image_train = pickle.load(f)\n",
    "with open('winter_data_image_test.pickle', 'rb') as f:\n",
    "    winter_image_test = pickle.load(f)"
   ]
  },
  {
   "cell_type": "markdown",
   "id": "3c578323",
   "metadata": {},
   "source": [
    "여름"
   ]
  },
  {
   "cell_type": "code",
   "execution_count": 229,
   "id": "ca1d454a",
   "metadata": {
    "scrolled": true
   },
   "outputs": [
    {
     "name": "stdout",
     "output_type": "stream",
     "text": [
      "Counter({0: 8376, -1: 40, 2: 29, 8: 24, 6: 22, 1: 18, 3: 15, 7: 14, 4: 11, 5: 5})\n"
     ]
    },
    {
     "data": {
      "image/png": "[encoded data removed]",
      "text/plain": [
       "<Figure size 432x288 with 1 Axes>"
      ]
     },
     "metadata": {
      "needs_background": "light"
     },
     "output_type": "display_data"
    }
   ],
   "source": [
    "#summer_num\n",
    "\n",
    "eps = 90\n",
    "min_samples = 5\n",
    "\n",
    "dbscan_model = DBSCAN(eps=eps, min_samples=min_samples)\n",
    "\n",
    "data = np.concatenate((summer_num_train, summer_num_test), axis=0)\n",
    "len_ = len(summer_num_train)\n",
    "labels = dbscan_model.fit_predict(data)\n",
    "labels_train = labels[:len_]\n",
    "labels_test = labels[len_:]\n",
    "cluster_counts = Counter(labels)\n",
    "print(cluster_counts)\n",
    "# 가장 큰 클러스터 찾기\n",
    "largest_cluster_label = max(cluster_counts, key=cluster_counts.get)\n",
    "\n",
    "revised_labels = np.where(labels == largest_cluster_label, 0, 1)\n",
    "\n",
    "plt.scatter(data[:, 0], data[:,1], c=labels, cmap='viridis', marker='o', edgecolors='k')\n",
    "plt.title('DBSCAN Clustering - Training Data')\n",
    "plt.show()"
   ]
  },
  {
   "cell_type": "code",
   "execution_count": 142,
   "id": "03aa7021",
   "metadata": {
    "scrolled": true
   },
   "outputs": [
    {
     "name": "stdout",
     "output_type": "stream",
     "text": [
      "5987\n"
     ]
    }
   ],
   "source": [
    "print(len_)"
   ]
  },
  {
   "cell_type": "code",
   "execution_count": 228,
   "id": "7fc2719f",
   "metadata": {
    "scrolled": true
   },
   "outputs": [
    {
     "name": "stdout",
     "output_type": "stream",
     "text": [
      "5987\n",
      "Counter({0: 8378, -1: 150, 2: 9, 4: 7, 1: 7, 3: 3})\n"
     ]
    },
    {
     "data": {
      "image/png": "[encoded data removed]",
      "text/plain": [
       "<Figure size 432x288 with 1 Axes>"
      ]
     },
     "metadata": {
      "needs_background": "light"
     },
     "output_type": "display_data"
    }
   ],
   "source": [
    "#summer_image\n",
    "\n",
    "eps = 2600\n",
    "min_samples = 10\n",
    "\n",
    "dbscan_model = DBSCAN(eps=eps, min_samples=min_samples)\n",
    "\n",
    "data = np.concatenate((summer_image_train, summer_image_test), axis=0)\n",
    "len_ = len(summer_image_train)\n",
    "labels2 = dbscan_model.fit_predict(data)\n",
    "print(len_)\n",
    "cluster_counts = Counter(labels2)\n",
    "print(cluster_counts)\n",
    "# 가장 큰 클러스터 찾기\n",
    "largest_cluster_label2 = max(cluster_counts, key=cluster_counts.get)\n",
    "\n",
    "revised_labels2 = np.where(labels2 == largest_cluster_label2, 0, 1)\n",
    "\n",
    "\n",
    "plt.scatter(data[:, 0], data[:,1], c=labels2, cmap='viridis', marker='o', edgecolors='k')\n",
    "plt.title('DBSCAN Clustering - Training Data')\n",
    "plt.show()"
   ]
  },
  {
   "cell_type": "code",
   "execution_count": 231,
   "id": "f445a2fc",
   "metadata": {},
   "outputs": [
    {
     "name": "stdout",
     "output_type": "stream",
     "text": [
      "Counter({0: 8200, 1: 354})\n"
     ]
    }
   ],
   "source": [
    "labels = revised_labels\n",
    "labels2 = revised_labels2\n",
    "#두개의 list를 생성해놓고 둘다 big cluster 일때만 0 아니면은 클러스터 번호로 라벨을 부여하기 \n",
    "result_list = [0 if val1 == 0 and val2 == 0 else 1 for val1, val2 in zip(labels, labels2)]\n",
    "\n",
    "summer_train_label = result_list[:len_]\n",
    "summer_test_label = result_list[len_:]\n",
    "\n",
    "cluster_counts = Counter(result_list)\n",
    "print(cluster_counts)"
   ]
  },
  {
   "cell_type": "markdown",
   "id": "fad75e26",
   "metadata": {},
   "source": [
    "봄"
   ]
  },
  {
   "cell_type": "code",
   "execution_count": 223,
   "id": "8de94bf8",
   "metadata": {
    "scrolled": false
   },
   "outputs": [
    {
     "name": "stdout",
     "output_type": "stream",
     "text": [
      "4699\n",
      "Counter({0: 6654, 3: 12, -1: 10, 4: 10, 5: 9, 1: 7, 2: 7, 6: 5})\n"
     ]
    },
    {
     "data": {
      "image/png": "[encoded data removed]",
      "text/plain": [
       "<Figure size 432x288 with 1 Axes>"
      ]
     },
     "metadata": {
      "needs_background": "light"
     },
     "output_type": "display_data"
    }
   ],
   "source": [
    "#spring_num\n",
    "\n",
    "eps = 90\n",
    "min_samples = 5\n",
    "\n",
    "dbscan_model = DBSCAN(eps=eps, min_samples=min_samples)\n",
    "\n",
    "data = np.concatenate((spring_num_train, spring_num_test), axis=0)\n",
    "len_ = len(spring_num_train)\n",
    "labels3 = dbscan_model.fit_predict(data)\n",
    "print(len_)\n",
    "cluster_counts = Counter(labels3)\n",
    "print(cluster_counts)\n",
    "# 가장 큰 클러스터 찾기\n",
    "largest_cluster_label = max(cluster_counts, key=cluster_counts.get)\n",
    "\n",
    "revised_labels3 = np.where(labels3 == largest_cluster_label, 2, 3)\n",
    "\n",
    "plt.scatter(data[:, 0], data[:,1], c=labels3, cmap='viridis', marker='o', edgecolors='k')\n",
    "plt.title('DBSCAN Clustering - Training Data')\n",
    "plt.show()"
   ]
  },
  {
   "cell_type": "code",
   "execution_count": 224,
   "id": "19a91ffa",
   "metadata": {
    "scrolled": false
   },
   "outputs": [
    {
     "name": "stdout",
     "output_type": "stream",
     "text": [
      "4699\n",
      "Counter({0: 6541, -1: 143, 1: 16, 2: 14})\n"
     ]
    },
    {
     "data": {
      "image/png": "[encoded data removed]",
      "text/plain": [
       "<Figure size 432x288 with 1 Axes>"
      ]
     },
     "metadata": {
      "needs_background": "light"
     },
     "output_type": "display_data"
    }
   ],
   "source": [
    "#spring_image\n",
    "\n",
    "eps = 2700\n",
    "min_samples = 10\n",
    "\n",
    "dbscan_model = DBSCAN(eps=eps, min_samples=min_samples)\n",
    "\n",
    "data = np.concatenate((spring_image_train, spring_image_test), axis=0)\n",
    "len_ = len(spring_image_train)\n",
    "labels4 = dbscan_model.fit_predict(data)\n",
    "print(len_)\n",
    "cluster_counts = Counter(labels4)\n",
    "print(cluster_counts)\n",
    "# 가장 큰 클러스터 찾기\n",
    "largest_cluster_label4 = max(cluster_counts, key=cluster_counts.get)\n",
    "\n",
    "revised_labels4 = np.where(labels4 == largest_cluster_label4, 2, 3)\n",
    "\n",
    "\n",
    "plt.scatter(data[:, 0], data[:,1], c=labels4, cmap='viridis', marker='o', edgecolors='k')\n",
    "plt.title('DBSCAN Clustering - Training Data')\n",
    "plt.show()"
   ]
  },
  {
   "cell_type": "code",
   "execution_count": 225,
   "id": "a6a1eb04",
   "metadata": {},
   "outputs": [
    {
     "name": "stdout",
     "output_type": "stream",
     "text": [
      "Counter({2: 6482, 3: 232})\n"
     ]
    }
   ],
   "source": [
    "#두개의 list를 생성해놓고 둘다 big cluster 일때만 0 아니면은 클러스터 번호로 라벨을 부여하기 \n",
    "labels3 = revised_labels3\n",
    "labels4 = revised_labels4\n",
    "result_list2 = [2 if val1 == 2 and val2 == 2 else 3 for val1, val2 in zip(labels3, labels4)]\n",
    "\n",
    "spring_train_label = result_list2[:len_]\n",
    "spring_test_label = result_list2[len_:]\n",
    "\n",
    "cluster_counts = Counter(result_list2)\n",
    "print(cluster_counts)"
   ]
  },
  {
   "cell_type": "markdown",
   "id": "ea4d658a",
   "metadata": {},
   "source": [
    "가을"
   ]
  },
  {
   "cell_type": "code",
   "execution_count": 250,
   "id": "283f486a",
   "metadata": {
    "scrolled": false
   },
   "outputs": [
    {
     "name": "stdout",
     "output_type": "stream",
     "text": [
      "2992\n",
      "Counter({0: 4260, 1: 9, -1: 6})\n"
     ]
    },
    {
     "data": {
      "image/png": "[encoded data removed]",
      "text/plain": [
       "<Figure size 432x288 with 1 Axes>"
      ]
     },
     "metadata": {
      "needs_background": "light"
     },
     "output_type": "display_data"
    }
   ],
   "source": [
    "#fall_num\n",
    "\n",
    "eps = 50\n",
    "min_samples = 5\n",
    "\n",
    "dbscan_model = DBSCAN(eps=eps, min_samples=min_samples)\n",
    "\n",
    "data = np.concatenate((fall_num_train, fall_num_test), axis=0)\n",
    "len_ = len(fall_num_train)\n",
    "labels5 = dbscan_model.fit_predict(data)\n",
    "print(len_)\n",
    "cluster_counts = Counter(labels5)\n",
    "print(cluster_counts)\n",
    "# 가장 큰 클러스터 찾기\n",
    "largest_cluster_label = max(cluster_counts, key=cluster_counts.get)\n",
    "\n",
    "revised_labels5 = np.where(labels5 == largest_cluster_label, 4, 5)\n",
    "\n",
    "plt.scatter(data[:, 0], data[:,1], c=labels5, cmap='viridis', marker='o', edgecolors='k')\n",
    "plt.title('DBSCAN Clustering - Training Data')\n",
    "plt.show()"
   ]
  },
  {
   "cell_type": "code",
   "execution_count": 251,
   "id": "f635d748",
   "metadata": {
    "scrolled": false
   },
   "outputs": [
    {
     "name": "stdout",
     "output_type": "stream",
     "text": [
      "2992\n",
      "Counter({0: 4228, -1: 38, 1: 9})\n"
     ]
    },
    {
     "data": {
      "image/png": "[encoded data removed]",
      "text/plain": [
       "<Figure size 432x288 with 1 Axes>"
      ]
     },
     "metadata": {
      "needs_background": "light"
     },
     "output_type": "display_data"
    }
   ],
   "source": [
    "#fall_image\n",
    "\n",
    "eps = 2600\n",
    "min_samples = 10\n",
    "\n",
    "dbscan_model = DBSCAN(eps=eps, min_samples=min_samples)\n",
    "\n",
    "data = np.concatenate((fall_image_train, fall_image_test), axis=0)\n",
    "len_ = len(fall_image_train)\n",
    "labels6 = dbscan_model.fit_predict(data)\n",
    "print(len_)\n",
    "cluster_counts = Counter(labels6)\n",
    "print(cluster_counts)\n",
    "# 가장 큰 클러스터 찾기\n",
    "largest_cluster_label6 = max(cluster_counts, key=cluster_counts.get)\n",
    "\n",
    "revised_labels6 = np.where(labels6 == largest_cluster_label6, 4,5)\n",
    "\n",
    "\n",
    "plt.scatter(data[:, 0], data[:,1], c=labels6, cmap='viridis', marker='o', edgecolors='k')\n",
    "plt.title('DBSCAN Clustering - Training Data')\n",
    "plt.show()"
   ]
  },
  {
   "cell_type": "code",
   "execution_count": 252,
   "id": "d82476cc",
   "metadata": {},
   "outputs": [
    {
     "name": "stdout",
     "output_type": "stream",
     "text": [
      "Counter({4: 4213, 5: 62})\n"
     ]
    }
   ],
   "source": [
    "#두개의 list를 생성해놓고 둘다 big cluster 일때만 0 아니면은 클러스터 번호로 라벨을 부여하기 \n",
    "labels5 = revised_labels5\n",
    "labels6 = revised_labels6\n",
    "\n",
    "result_list3 = [4 if val1 == 4 and val2 == 4 else 5 for val1, val2 in zip(labels5, labels6)]\n",
    "\n",
    "fall_train_label = result_list3[:len_]\n",
    "fall_test_label = result_list3[len_:]\n",
    "\n",
    "cluster_counts = Counter(result_list3)\n",
    "print(cluster_counts)"
   ]
  },
  {
   "cell_type": "markdown",
   "id": "516282f2",
   "metadata": {},
   "source": [
    "겨울"
   ]
  },
  {
   "cell_type": "code",
   "execution_count": 253,
   "id": "d1c16b42",
   "metadata": {
    "scrolled": true
   },
   "outputs": [
    {
     "name": "stdout",
     "output_type": "stream",
     "text": [
      "4340\n",
      "Counter({0: 6188, 1: 9, -1: 4})\n"
     ]
    },
    {
     "data": {
      "image/png": "[encoded data removed]",
      "text/plain": [
       "<Figure size 432x288 with 1 Axes>"
      ]
     },
     "metadata": {
      "needs_background": "light"
     },
     "output_type": "display_data"
    }
   ],
   "source": [
    "#winter_num\n",
    "\n",
    "eps = 47\n",
    "min_samples = 7\n",
    "\n",
    "dbscan_model = DBSCAN(eps=eps, min_samples=min_samples)\n",
    "\n",
    "data = np.concatenate((winter_num_train, winter_num_test), axis=0)\n",
    "len_ = len(winter_num_train)\n",
    "labels7 = dbscan_model.fit_predict(data)\n",
    "print(len_)\n",
    "cluster_counts = Counter(labels7)\n",
    "print(cluster_counts)\n",
    "# 가장 큰 클러스터 찾기\n",
    "largest_cluster_label = max(cluster_counts, key=cluster_counts.get)\n",
    "\n",
    "revised_labels7 = np.where(labels7 == largest_cluster_label, 6, 7)\n",
    "\n",
    "plt.scatter(data[:, 0], data[:,1], c=labels7, cmap='viridis', marker='o', edgecolors='k')\n",
    "plt.title('DBSCAN Clustering - Training Data')\n",
    "plt.show()"
   ]
  },
  {
   "cell_type": "code",
   "execution_count": 254,
   "id": "88b48cb0",
   "metadata": {
    "scrolled": false
   },
   "outputs": [
    {
     "name": "stdout",
     "output_type": "stream",
     "text": [
      "4340\n",
      "Counter({0: 6143, -1: 58})\n"
     ]
    },
    {
     "data": {
      "image/png": "[encoded data removed]",
      "text/plain": [
       "<Figure size 432x288 with 1 Axes>"
      ]
     },
     "metadata": {
      "needs_background": "light"
     },
     "output_type": "display_data"
    }
   ],
   "source": [
    "#winter_image\n",
    "\n",
    "eps = 1800\n",
    "min_samples = 10\n",
    "\n",
    "dbscan_model = DBSCAN(eps=eps, min_samples=min_samples)\n",
    "\n",
    "data = np.concatenate((winter_image_train, winter_image_test), axis=0)\n",
    "len_ = len(winter_image_train)\n",
    "labels8 = dbscan_model.fit_predict(data)\n",
    "print(len_)\n",
    "cluster_counts = Counter(labels8)\n",
    "print(cluster_counts)\n",
    "# 가장 큰 클러스터 찾기\n",
    "largest_cluster_label8 = max(cluster_counts, key=cluster_counts.get)\n",
    "\n",
    "revised_labels8 = np.where(labels8 == largest_cluster_label8, 6, 7)\n",
    "\n",
    "\n",
    "plt.scatter(data[:, 0], data[:,1], c=labels8, cmap='viridis', marker='o', edgecolors='k')\n",
    "plt.title('DBSCAN Clustering - Training Data')\n",
    "plt.show()"
   ]
  },
  {
   "cell_type": "code",
   "execution_count": 256,
   "id": "c67c4ab1",
   "metadata": {},
   "outputs": [
    {
     "name": "stdout",
     "output_type": "stream",
     "text": [
      "Counter({6: 6130, 7: 71})\n"
     ]
    }
   ],
   "source": [
    "#두개의 list를 생성해놓고 둘다 big cluster 일때만 0 아니면은 클러스터 번호로 라벨을 부여하기 \n",
    "labels7 = revised_labels7\n",
    "labels8 = revised_labels8\n",
    "\n",
    "\n",
    "result_list4 = [6 if val1 == 6 and val2 == 6 else 7 for val1, val2 in zip(labels7, labels8)]\n",
    "\n",
    "winter_train_label = result_list4[:len_]\n",
    "winter_test_label = result_list4[len_:]\n",
    "\n",
    "cluster_counts = Counter(result_list4)\n",
    "print(cluster_counts)"
   ]
  },
  {
   "cell_type": "markdown",
   "id": "e405c634",
   "metadata": {},
   "source": [
    "# 5. Randomforest 학습하기 "
   ]
  },
  {
   "cell_type": "markdown",
   "id": "1657a7b7",
   "metadata": {},
   "source": [
    "train과 test 모두 합치기..대박.. 대신, label주면서 합치기..헐.. \n",
    "summer,winter,spring,fall train,test 합치기"
   ]
  },
  {
   "cell_type": "code",
   "execution_count": 257,
   "id": "edc983e2",
   "metadata": {},
   "outputs": [
    {
     "name": "stdout",
     "output_type": "stream",
     "text": [
      "[ 1  2  3  4  5  6  7  8  9 10 11 12]\n"
     ]
    }
   ],
   "source": [
    "array1 = np.array([1, 2, 3])\n",
    "array2 = np.array([4, 5, 6])\n",
    "array3 = np.array([7, 8, 9])\n",
    "array4 = np.array([10, 11, 12])\n",
    "\n",
    "# 4개의 배열을 연결\n",
    "result_array = np.concatenate((array1, array2, array3, array4))\n",
    "\n",
    "# 결과 출력\n",
    "print(result_array)"
   ]
  },
  {
   "cell_type": "code",
   "execution_count": 281,
   "id": "653b8b28",
   "metadata": {},
   "outputs": [],
   "source": [
    "train_x = np.concatenate((summer_num_train,spring_num_train,fall_num_train,winter_num_train))\n",
    "train_y = np.concatenate((summer_train_label,spring_train_label,fall_train_label,winter_train_label))\n",
    "test_x = np.concatenate((summer_num_test,spring_num_test,fall_num_test,winter_num_test))\n",
    "test_y = np.concatenate((summer_test_label,spring_test_label,fall_test_label,winter_test_label))"
   ]
  },
  {
   "cell_type": "code",
   "execution_count": null,
   "id": "d3f93221",
   "metadata": {},
   "outputs": [],
   "source": [
    "with open ()"
   ]
  },
  {
   "cell_type": "code",
   "execution_count": 282,
   "id": "ee9255b6",
   "metadata": {},
   "outputs": [],
   "source": [
    "train_len = len(train_y)\n",
    "test_len = len(test_y)\n",
    "random_indices = np.random.permutation(train_len)\n",
    "random_indices2= np.random.permutation(test_len)\n",
    "\n",
    "# 생성된 랜덤 인덱스를 사용하여 두 배열 섞기\n",
    "train_x = train_x[random_indices]\n",
    "train_y = train_y[random_indices]\n",
    "test_x = test_x[random_indices2]\n",
    "test_y = test_y[random_indices2]"
   ]
  },
  {
   "cell_type": "code",
   "execution_count": 259,
   "id": "9428df92",
   "metadata": {},
   "outputs": [],
   "source": [
    "from sklearn import datasets\n",
    "from sklearn.ensemble import RandomForestClassifier\n",
    "from sklearn.model_selection import train_test_split\n",
    "from sklearn.metrics import classification_report"
   ]
  },
  {
   "cell_type": "code",
   "execution_count": 291,
   "id": "62ee5f67",
   "metadata": {
    "scrolled": false
   },
   "outputs": [
    {
     "data": {
      "text/html": [
       "<style>#sk-container-id-7 {color: black;}#sk-container-id-7 pre{padding: 0;}#sk-container-id-7 div.sk-toggleable {background-color: white;}#sk-container-id-7 label.sk-toggleable__label {cursor: pointer;display: block;width: 100%;margin-bottom: 0;padding: 0.3em;box-sizing: border-box;text-align: center;}#sk-container-id-7 label.sk-toggleable__label-arrow:before {content: \"▸\";float: left;margin-right: 0.25em;color: #696969;}#sk-container-id-7 label.sk-toggleable__label-arrow:hover:before {color: black;}#sk-container-id-7 div.sk-estimator:hover label.sk-toggleable__label-arrow:before {color: black;}#sk-container-id-7 div.sk-toggleable__content {max-height: 0;max-width: 0;overflow: hidden;text-align: left;background-color: #f0f8ff;}#sk-container-id-7 div.sk-toggleable__content pre {margin: 0.2em;color: black;border-radius: 0.25em;background-color: #f0f8ff;}#sk-container-id-7 input.sk-toggleable__control:checked~div.sk-toggleable__content {max-height: 200px;max-width: 100%;overflow: auto;}#sk-container-id-7 input.sk-toggleable__control:checked~label.sk-toggleable__label-arrow:before {content: \"▾\";}#sk-container-id-7 div.sk-estimator input.sk-toggleable__control:checked~label.sk-toggleable__label {background-color: #d4ebff;}#sk-container-id-7 div.sk-label input.sk-toggleable__control:checked~label.sk-toggleable__label {background-color: #d4ebff;}#sk-container-id-7 input.sk-hidden--visually {border: 0;clip: rect(1px 1px 1px 1px);clip: rect(1px, 1px, 1px, 1px);height: 1px;margin: -1px;overflow: hidden;padding: 0;position: absolute;width: 1px;}#sk-container-id-7 div.sk-estimator {font-family: monospace;background-color: #f0f8ff;border: 1px dotted black;border-radius: 0.25em;box-sizing: border-box;margin-bottom: 0.5em;}#sk-container-id-7 div.sk-estimator:hover {background-color: #d4ebff;}#sk-container-id-7 div.sk-parallel-item::after {content: \"\";width: 100%;border-bottom: 1px solid gray;flex-grow: 1;}#sk-container-id-7 div.sk-label:hover label.sk-toggleable__label {background-color: #d4ebff;}#sk-container-id-7 div.sk-serial::before {content: \"\";position: absolute;border-left: 1px solid gray;box-sizing: border-box;top: 0;bottom: 0;left: 50%;z-index: 0;}#sk-container-id-7 div.sk-serial {display: flex;flex-direction: column;align-items: center;background-color: white;padding-right: 0.2em;padding-left: 0.2em;position: relative;}#sk-container-id-7 div.sk-item {position: relative;z-index: 1;}#sk-container-id-7 div.sk-parallel {display: flex;align-items: stretch;justify-content: center;background-color: white;position: relative;}#sk-container-id-7 div.sk-item::before, #sk-container-id-7 div.sk-parallel-item::before {content: \"\";position: absolute;border-left: 1px solid gray;box-sizing: border-box;top: 0;bottom: 0;left: 50%;z-index: -1;}#sk-container-id-7 div.sk-parallel-item {display: flex;flex-direction: column;z-index: 1;position: relative;background-color: white;}#sk-container-id-7 div.sk-parallel-item:first-child::after {align-self: flex-end;width: 50%;}#sk-container-id-7 div.sk-parallel-item:last-child::after {align-self: flex-start;width: 50%;}#sk-container-id-7 div.sk-parallel-item:only-child::after {width: 0;}#sk-container-id-7 div.sk-dashed-wrapped {border: 1px dashed gray;margin: 0 0.4em 0.5em 0.4em;box-sizing: border-box;padding-bottom: 0.4em;background-color: white;}#sk-container-id-7 div.sk-label label {font-family: monospace;font-weight: bold;display: inline-block;line-height: 1.2em;}#sk-container-id-7 div.sk-label-container {text-align: center;}#sk-container-id-7 div.sk-container {/* jupyter's `normalize.less` sets `[hidden] { display: none; }` but bootstrap.min.css set `[hidden] { display: none !important; }` so we also need the `!important` here to be able to override the default hidden behavior on the sphinx rendered scikit-learn.org. See: https://github.com/scikit-learn/scikit-learn/issues/21755 */display: inline-block !important;position: relative;}#sk-container-id-7 div.sk-text-repr-fallback {display: none;}</style><div id=\"sk-container-id-7\" class=\"sk-top-container\"><div class=\"sk-text-repr-fallback\"><pre>RandomForestClassifier(n_estimators=500, random_state=108)</pre><b>In a Jupyter environment, please rerun this cell to show the HTML representation or trust the notebook. <br />On GitHub, the HTML representation is unable to render, please try loading this page with nbviewer.org.</b></div><div class=\"sk-container\" hidden><div class=\"sk-item\"><div class=\"sk-estimator sk-toggleable\"><input class=\"sk-toggleable__control sk-hidden--visually\" id=\"sk-estimator-id-7\" type=\"checkbox\" checked><label for=\"sk-estimator-id-7\" class=\"sk-toggleable__label sk-toggleable__label-arrow\">RandomForestClassifier</label><div class=\"sk-toggleable__content\"><pre>RandomForestClassifier(n_estimators=500, random_state=108)</pre></div></div></div></div></div>"
      ],
      "text/plain": [
       "RandomForestClassifier(n_estimators=500, random_state=108)"
      ]
     },
     "execution_count": 291,
     "metadata": {},
     "output_type": "execute_result"
    }
   ],
   "source": [
    "rf_model = RandomForestClassifier(random_state = 108,n_estimators = 500)\n",
    "rf_model.fit(train_x, train_y)"
   ]
  },
  {
   "cell_type": "code",
   "execution_count": 243,
   "id": "eb5b77b6",
   "metadata": {},
   "outputs": [],
   "source": [
    "from sklearn.metrics import accuracy_score, precision_score, recall_score, confusion_matrix, f1_score, classification_report\n",
    "\n",
    "\n",
    "def score(labels, pred):\n",
    "    confusion = confusion_matrix(labels, pred)\n",
    "    accuracy = accuracy_score(labels, pred)\n",
    "    precision = precision_score(labels, pred, average='macro')\n",
    "    recall = recall_score(labels, pred, average='macro')\n",
    "    f1 = f1_score(labels, pred, average='macro')\n",
    "    print(classification_report(labels, pred))\n",
    "    print('Confusion Matrix')\n",
    "    print(confusion)\n",
    "    print('정확도:{:.3f}, 정밀도:{:.3f}, 재현율:{:.3f}, F1-Socre:{:.3f}'.format(accuracy, precision, recall, f1))"
   ]
  },
  {
   "cell_type": "code",
   "execution_count": 293,
   "id": "52b3c7ac",
   "metadata": {},
   "outputs": [],
   "source": [
    "predict = rf_model.predict(test_x) "
   ]
  },
  {
   "cell_type": "code",
   "execution_count": 290,
   "id": "039642a4",
   "metadata": {
    "scrolled": true
   },
   "outputs": [
    {
     "name": "stdout",
     "output_type": "stream",
     "text": [
      "              precision    recall  f1-score   support\n",
      "\n",
      "           0       0.98      1.00      0.99      2461\n",
      "           1       0.89      0.46      0.61       106\n",
      "           2       0.97      1.00      0.99      1950\n",
      "           3       0.94      0.23      0.37        65\n",
      "           4       0.99      1.00      1.00      1267\n",
      "           5       1.00      0.25      0.40        16\n",
      "           6       0.99      1.00      0.99      1837\n",
      "           7       1.00      0.12      0.22        24\n",
      "\n",
      "    accuracy                           0.98      7726\n",
      "   macro avg       0.97      0.63      0.70      7726\n",
      "weighted avg       0.98      0.98      0.98      7726\n",
      "\n",
      "Confusion Matrix\n",
      "[[2455    6    0    0    0    0    0    0]\n",
      " [  57   49    0    0    0    0    0    0]\n",
      " [   0    0 1949    1    0    0    0    0]\n",
      " [   0    0   50   15    0    0    0    0]\n",
      " [   0    0    0    0 1267    0    0    0]\n",
      " [   0    0    0    0   12    4    0    0]\n",
      " [   0    0    0    0    0    0 1837    0]\n",
      " [   0    0    0    0    0    0   21    3]]\n",
      "정확도:0.981, 정밀도:0.970, 재현율:0.633, F1-Socre:0.696\n"
     ]
    }
   ],
   "source": [
    "score(test_y, predict)"
   ]
  },
  {
   "cell_type": "code",
   "execution_count": null,
   "id": "c2acbd1b",
   "metadata": {},
   "outputs": [],
   "source": []
  },
  {
   "cell_type": "markdown",
   "id": "6c5a1eba",
   "metadata": {},
   "source": [
    "계절만 하기"
   ]
  },
  {
   "cell_type": "code",
   "execution_count": 304,
   "id": "5133a824",
   "metadata": {},
   "outputs": [],
   "source": [
    "selected_indices = np.where(train_y % 2 == 0)[0]\n",
    "selected_indices2 = np.where(test_y % 2 == 0)[0]\n",
    "\n",
    "train_x2 = train_x[selected_indices]\n",
    "test_x2 = test_x[selected_indices2]\n",
    "train_y2 = train_y[selected_indices]\n",
    "test_y2 = test_y[selected_indices2]"
   ]
  },
  {
   "cell_type": "code",
   "execution_count": 305,
   "id": "c966397a",
   "metadata": {
    "scrolled": false
   },
   "outputs": [
    {
     "data": {
      "text/html": [
       "<style>#sk-container-id-8 {color: black;}#sk-container-id-8 pre{padding: 0;}#sk-container-id-8 div.sk-toggleable {background-color: white;}#sk-container-id-8 label.sk-toggleable__label {cursor: pointer;display: block;width: 100%;margin-bottom: 0;padding: 0.3em;box-sizing: border-box;text-align: center;}#sk-container-id-8 label.sk-toggleable__label-arrow:before {content: \"▸\";float: left;margin-right: 0.25em;color: #696969;}#sk-container-id-8 label.sk-toggleable__label-arrow:hover:before {color: black;}#sk-container-id-8 div.sk-estimator:hover label.sk-toggleable__label-arrow:before {color: black;}#sk-container-id-8 div.sk-toggleable__content {max-height: 0;max-width: 0;overflow: hidden;text-align: left;background-color: #f0f8ff;}#sk-container-id-8 div.sk-toggleable__content pre {margin: 0.2em;color: black;border-radius: 0.25em;background-color: #f0f8ff;}#sk-container-id-8 input.sk-toggleable__control:checked~div.sk-toggleable__content {max-height: 200px;max-width: 100%;overflow: auto;}#sk-container-id-8 input.sk-toggleable__control:checked~label.sk-toggleable__label-arrow:before {content: \"▾\";}#sk-container-id-8 div.sk-estimator input.sk-toggleable__control:checked~label.sk-toggleable__label {background-color: #d4ebff;}#sk-container-id-8 div.sk-label input.sk-toggleable__control:checked~label.sk-toggleable__label {background-color: #d4ebff;}#sk-container-id-8 input.sk-hidden--visually {border: 0;clip: rect(1px 1px 1px 1px);clip: rect(1px, 1px, 1px, 1px);height: 1px;margin: -1px;overflow: hidden;padding: 0;position: absolute;width: 1px;}#sk-container-id-8 div.sk-estimator {font-family: monospace;background-color: #f0f8ff;border: 1px dotted black;border-radius: 0.25em;box-sizing: border-box;margin-bottom: 0.5em;}#sk-container-id-8 div.sk-estimator:hover {background-color: #d4ebff;}#sk-container-id-8 div.sk-parallel-item::after {content: \"\";width: 100%;border-bottom: 1px solid gray;flex-grow: 1;}#sk-container-id-8 div.sk-label:hover label.sk-toggleable__label {background-color: #d4ebff;}#sk-container-id-8 div.sk-serial::before {content: \"\";position: absolute;border-left: 1px solid gray;box-sizing: border-box;top: 0;bottom: 0;left: 50%;z-index: 0;}#sk-container-id-8 div.sk-serial {display: flex;flex-direction: column;align-items: center;background-color: white;padding-right: 0.2em;padding-left: 0.2em;position: relative;}#sk-container-id-8 div.sk-item {position: relative;z-index: 1;}#sk-container-id-8 div.sk-parallel {display: flex;align-items: stretch;justify-content: center;background-color: white;position: relative;}#sk-container-id-8 div.sk-item::before, #sk-container-id-8 div.sk-parallel-item::before {content: \"\";position: absolute;border-left: 1px solid gray;box-sizing: border-box;top: 0;bottom: 0;left: 50%;z-index: -1;}#sk-container-id-8 div.sk-parallel-item {display: flex;flex-direction: column;z-index: 1;position: relative;background-color: white;}#sk-container-id-8 div.sk-parallel-item:first-child::after {align-self: flex-end;width: 50%;}#sk-container-id-8 div.sk-parallel-item:last-child::after {align-self: flex-start;width: 50%;}#sk-container-id-8 div.sk-parallel-item:only-child::after {width: 0;}#sk-container-id-8 div.sk-dashed-wrapped {border: 1px dashed gray;margin: 0 0.4em 0.5em 0.4em;box-sizing: border-box;padding-bottom: 0.4em;background-color: white;}#sk-container-id-8 div.sk-label label {font-family: monospace;font-weight: bold;display: inline-block;line-height: 1.2em;}#sk-container-id-8 div.sk-label-container {text-align: center;}#sk-container-id-8 div.sk-container {/* jupyter's `normalize.less` sets `[hidden] { display: none; }` but bootstrap.min.css set `[hidden] { display: none !important; }` so we also need the `!important` here to be able to override the default hidden behavior on the sphinx rendered scikit-learn.org. See: https://github.com/scikit-learn/scikit-learn/issues/21755 */display: inline-block !important;position: relative;}#sk-container-id-8 div.sk-text-repr-fallback {display: none;}</style><div id=\"sk-container-id-8\" class=\"sk-top-container\"><div class=\"sk-text-repr-fallback\"><pre>RandomForestClassifier(n_estimators=200, random_state=108)</pre><b>In a Jupyter environment, please rerun this cell to show the HTML representation or trust the notebook. <br />On GitHub, the HTML representation is unable to render, please try loading this page with nbviewer.org.</b></div><div class=\"sk-container\" hidden><div class=\"sk-item\"><div class=\"sk-estimator sk-toggleable\"><input class=\"sk-toggleable__control sk-hidden--visually\" id=\"sk-estimator-id-8\" type=\"checkbox\" checked><label for=\"sk-estimator-id-8\" class=\"sk-toggleable__label sk-toggleable__label-arrow\">RandomForestClassifier</label><div class=\"sk-toggleable__content\"><pre>RandomForestClassifier(n_estimators=200, random_state=108)</pre></div></div></div></div></div>"
      ],
      "text/plain": [
       "RandomForestClassifier(n_estimators=200, random_state=108)"
      ]
     },
     "execution_count": 305,
     "metadata": {},
     "output_type": "execute_result"
    }
   ],
   "source": [
    "rf_model2 = RandomForestClassifier(random_state = 108,n_estimators = 200)\n",
    "rf_model2.fit(train_x2, train_y2)"
   ]
  },
  {
   "cell_type": "code",
   "execution_count": 306,
   "id": "5986328f",
   "metadata": {},
   "outputs": [],
   "source": [
    "predict2 = rf_model2.predict(test_x2) "
   ]
  },
  {
   "cell_type": "code",
   "execution_count": 313,
   "id": "5d8d356e",
   "metadata": {},
   "outputs": [
    {
     "data": {
      "text/plain": [
       "32"
      ]
     },
     "execution_count": 313,
     "metadata": {},
     "output_type": "execute_result"
    }
   ],
   "source": [
    "len(train_x2[0])"
   ]
  },
  {
   "cell_type": "code",
   "execution_count": 307,
   "id": "54f264aa",
   "metadata": {
    "scrolled": false
   },
   "outputs": [
    {
     "name": "stdout",
     "output_type": "stream",
     "text": [
      "              precision    recall  f1-score   support\n",
      "\n",
      "           0       1.00      1.00      1.00      2461\n",
      "           2       1.00      1.00      1.00      1950\n",
      "           4       1.00      1.00      1.00      1267\n",
      "           6       1.00      1.00      1.00      1837\n",
      "\n",
      "    accuracy                           1.00      7515\n",
      "   macro avg       1.00      1.00      1.00      7515\n",
      "weighted avg       1.00      1.00      1.00      7515\n",
      "\n",
      "Confusion Matrix\n",
      "[[2461    0    0    0]\n",
      " [   0 1950    0    0]\n",
      " [   0    0 1267    0]\n",
      " [   0    0    0 1837]]\n",
      "정확도:1.000, 정밀도:1.000, 재현율:1.000, F1-Socre:1.000\n"
     ]
    }
   ],
   "source": [
    "score(test_y2, predict2)"
   ]
  },
  {
   "cell_type": "code",
   "execution_count": null,
   "id": "fedc8873",
   "metadata": {},
   "outputs": [],
   "source": [
    "rf_model2"
   ]
  },
  {
   "cell_type": "code",
   "execution_count": 310,
   "id": "da5932f1",
   "metadata": {},
   "outputs": [],
   "source": [
    "with open('saved_model2','wb') as f:\n",
    "    pickle.dump(rf_model2,f)"
   ]
  },
  {
   "cell_type": "code",
   "execution_count": 311,
   "id": "d4fe1f28",
   "metadata": {},
   "outputs": [],
   "source": [
    "with open(f'train_x2.pickle', 'wb') as f:\n",
    "    pickle.dump(train_x2, f)\n",
    "with open(f'test_x2.pickle', 'wb') as f:\n",
    "    pickle.dump(test_x2, f)\n",
    "with open(f'train_y2.pickle', 'wb') as f:\n",
    "    pickle.dump(train_y2, f)\n",
    "with open(f'test_y2.pickle', 'wb') as f:\n",
    "    pickle.dump(test_y2, f)"
   ]
  },
  {
   "cell_type": "markdown",
   "id": "5a0fe37f",
   "metadata": {},
   "source": [
    "112차원으로 학습"
   ]
  },
  {
   "cell_type": "code",
   "execution_count": 316,
   "id": "2c689fe6",
   "metadata": {},
   "outputs": [],
   "source": [
    "summer_data2 = []\n",
    "spring_data2 = []\n",
    "winter_data2 = []\n",
    "fall_data2 = []"
   ]
  },
  {
   "cell_type": "code",
   "execution_count": 338,
   "id": "eba1600a",
   "metadata": {},
   "outputs": [
    {
     "data": {
      "text/plain": [
       "8554"
      ]
     },
     "execution_count": 338,
     "metadata": {},
     "output_type": "execute_result"
    }
   ],
   "source": [
    "len(summer_data)"
   ]
  },
  {
   "cell_type": "code",
   "execution_count": 339,
   "id": "b825cf24",
   "metadata": {},
   "outputs": [],
   "source": [
    "summer_data2 = []\n",
    "for data_ in summer_data:\n",
    "    summer_data2.append(data_[2])\n"
   ]
  },
  {
   "cell_type": "code",
   "execution_count": null,
   "id": "2b582c5c",
   "metadata": {},
   "outputs": [],
   "source": [
    "for data_ in spring_data:\n",
    "    spring_data2.append(data_[2])\n",
    "for data_ in fall_data:\n",
    "    fall_data2.append(data_[2])\n",
    "for data_ in winter_data:\n",
    "    winter_data2.append(data_[2])"
   ]
  },
  {
   "cell_type": "code",
   "execution_count": 354,
   "id": "560fb047",
   "metadata": {},
   "outputs": [],
   "source": [
    "train_x_n2 = summer_data2[:5987] + spring_data2[:4699] + fall_data2[:2992] + winter_data2[:4340]\n",
    "test_x_n2 = summer_data2[5987:] + spring_data2[4699:] + fall_data2[2992:] + winter_data2[4340:]"
   ]
  },
  {
   "cell_type": "code",
   "execution_count": 341,
   "id": "e6a74c9f",
   "metadata": {},
   "outputs": [],
   "source": [
    "count_0 = 5987\n",
    "count_2 = 4699\n",
    "count_4 = 2992\n",
    "count_6 = 4340"
   ]
  },
  {
   "cell_type": "code",
   "execution_count": 344,
   "id": "144c0aee",
   "metadata": {},
   "outputs": [],
   "source": [
    "count_0 = 2567\n",
    "count_2 = 2015\n",
    "count_4 = 1283\n",
    "count_6 = 1861"
   ]
  },
  {
   "cell_type": "code",
   "execution_count": 342,
   "id": "29f7a447",
   "metadata": {
    "scrolled": true
   },
   "outputs": [
    {
     "name": "stdout",
     "output_type": "stream",
     "text": [
      "2567\n",
      "2015\n",
      "1283\n",
      "1861\n"
     ]
    }
   ],
   "source": [
    "print(len(summer_data2[5987:]))\n",
    "print(len(spring_data2[4699:]))\n",
    "print(len(fall_data2[2992:]))\n",
    "print(len(winter_data2[4340:]))"
   ]
  },
  {
   "cell_type": "code",
   "execution_count": 343,
   "id": "153dc11c",
   "metadata": {},
   "outputs": [],
   "source": [
    "train_y_n = np.concatenate([\n",
    "    np.zeros(count_0),\n",
    "    np.full(count_2, 2),\n",
    "    np.full(count_4, 4),\n",
    "    np.full(count_6, 6)\n",
    "])"
   ]
  },
  {
   "cell_type": "code",
   "execution_count": 343,
   "id": "2771f627",
   "metadata": {},
   "outputs": [],
   "source": [
    "train_y_n = np.concatenate([\n",
    "    np.zeros(count_0),\n",
    "    np.full(count_2, 2),\n",
    "    np.full(count_4, 4),\n",
    "    np.full(count_6, 6)\n",
    "])"
   ]
  },
  {
   "cell_type": "code",
   "execution_count": 345,
   "id": "9fef30a1",
   "metadata": {},
   "outputs": [],
   "source": [
    "test_y_n = np.concatenate([\n",
    "    np.zeros(count_0),\n",
    "    np.full(count_2, 2),\n",
    "    np.full(count_4, 4),\n",
    "    np.full(count_6, 6)\n",
    "])"
   ]
  },
  {
   "cell_type": "code",
   "execution_count": 347,
   "id": "c4fc4bd6",
   "metadata": {},
   "outputs": [],
   "source": [
    "train_x_n = np.array(train_x_n)\n",
    "test_x_n = np.array(test_x_n)"
   ]
  },
  {
   "cell_type": "code",
   "execution_count": null,
   "id": "fc91e049",
   "metadata": {},
   "outputs": [],
   "source": [
    "train_y_n = [\n",
    "test_y_n = "
   ]
  },
  {
   "cell_type": "code",
   "execution_count": 376,
   "id": "3a25975a",
   "metadata": {
    "scrolled": false
   },
   "outputs": [],
   "source": [
    "train_x_n2 = np.array(train_x_n2)"
   ]
  },
  {
   "cell_type": "code",
   "execution_count": 378,
   "id": "69fda058",
   "metadata": {
    "scrolled": false
   },
   "outputs": [],
   "source": [
    "test_x_n2 = np.array(test_x_n2)"
   ]
  },
  {
   "cell_type": "code",
   "execution_count": 372,
   "id": "e0894293",
   "metadata": {},
   "outputs": [],
   "source": [
    "selected_indices = np.where(train_y % 2 == 1)[0].astype(int)\n",
    "selected_indices2 = np.where(test_y % 2 == 1)[0].astype(int)"
   ]
  },
  {
   "cell_type": "code",
   "execution_count": 370,
   "id": "0a3216d6",
   "metadata": {},
   "outputs": [
    {
     "data": {
      "text/plain": [
       "18018"
      ]
     },
     "execution_count": 370,
     "metadata": {},
     "output_type": "execute_result"
    }
   ],
   "source": [
    "len(train_x_n2)"
   ]
  },
  {
   "cell_type": "code",
   "execution_count": 371,
   "id": "60263877",
   "metadata": {},
   "outputs": [
    {
     "data": {
      "text/plain": [
       "18018"
      ]
     },
     "execution_count": 371,
     "metadata": {},
     "output_type": "execute_result"
    }
   ],
   "source": [
    "len(train_y)"
   ]
  },
  {
   "cell_type": "code",
   "execution_count": 383,
   "id": "b2ac744a",
   "metadata": {},
   "outputs": [],
   "source": [
    "train_x_n = train_x_n2[selected_indices]\n",
    "test_x_n = test_x_n2[selected_indices2]\n",
    "train_y_n = train_y[selected_indices]\n",
    "test_y_n = test_y[selected_indices2]"
   ]
  },
  {
   "cell_type": "code",
   "execution_count": 364,
   "id": "cd3f4f03",
   "metadata": {},
   "outputs": [],
   "source": [
    "#train_x = np.concatenate((summer_num_train,spring_num_train,fall_num_train,winter_num_train))\n",
    "train_y = np.concatenate((summer_train_label,spring_train_label,fall_train_label,winter_train_label))\n",
    "#test_x = np.concatenate((summer_num_test,spring_num_test,fall_num_test,winter_num_test))\n",
    "test_y = np.concatenate((summer_test_label,spring_test_label,fall_test_label,winter_test_label))"
   ]
  },
  {
   "cell_type": "code",
   "execution_count": 333,
   "id": "985b61b4",
   "metadata": {},
   "outputs": [
    {
     "data": {
      "text/plain": [
       "array([0, 0, 0, 0, 2, 0, 2, 4, 6, 0])"
      ]
     },
     "execution_count": 333,
     "metadata": {},
     "output_type": "execute_result"
    }
   ],
   "source": [
    "test_y_n[:10]"
   ]
  },
  {
   "cell_type": "code",
   "execution_count": 349,
   "id": "0333e4d7",
   "metadata": {
    "scrolled": false
   },
   "outputs": [
    {
     "data": {
      "text/html": [
       "<style>#sk-container-id-10 {color: black;}#sk-container-id-10 pre{padding: 0;}#sk-container-id-10 div.sk-toggleable {background-color: white;}#sk-container-id-10 label.sk-toggleable__label {cursor: pointer;display: block;width: 100%;margin-bottom: 0;padding: 0.3em;box-sizing: border-box;text-align: center;}#sk-container-id-10 label.sk-toggleable__label-arrow:before {content: \"▸\";float: left;margin-right: 0.25em;color: #696969;}#sk-container-id-10 label.sk-toggleable__label-arrow:hover:before {color: black;}#sk-container-id-10 div.sk-estimator:hover label.sk-toggleable__label-arrow:before {color: black;}#sk-container-id-10 div.sk-toggleable__content {max-height: 0;max-width: 0;overflow: hidden;text-align: left;background-color: #f0f8ff;}#sk-container-id-10 div.sk-toggleable__content pre {margin: 0.2em;color: black;border-radius: 0.25em;background-color: #f0f8ff;}#sk-container-id-10 input.sk-toggleable__control:checked~div.sk-toggleable__content {max-height: 200px;max-width: 100%;overflow: auto;}#sk-container-id-10 input.sk-toggleable__control:checked~label.sk-toggleable__label-arrow:before {content: \"▾\";}#sk-container-id-10 div.sk-estimator input.sk-toggleable__control:checked~label.sk-toggleable__label {background-color: #d4ebff;}#sk-container-id-10 div.sk-label input.sk-toggleable__control:checked~label.sk-toggleable__label {background-color: #d4ebff;}#sk-container-id-10 input.sk-hidden--visually {border: 0;clip: rect(1px 1px 1px 1px);clip: rect(1px, 1px, 1px, 1px);height: 1px;margin: -1px;overflow: hidden;padding: 0;position: absolute;width: 1px;}#sk-container-id-10 div.sk-estimator {font-family: monospace;background-color: #f0f8ff;border: 1px dotted black;border-radius: 0.25em;box-sizing: border-box;margin-bottom: 0.5em;}#sk-container-id-10 div.sk-estimator:hover {background-color: #d4ebff;}#sk-container-id-10 div.sk-parallel-item::after {content: \"\";width: 100%;border-bottom: 1px solid gray;flex-grow: 1;}#sk-container-id-10 div.sk-label:hover label.sk-toggleable__label {background-color: #d4ebff;}#sk-container-id-10 div.sk-serial::before {content: \"\";position: absolute;border-left: 1px solid gray;box-sizing: border-box;top: 0;bottom: 0;left: 50%;z-index: 0;}#sk-container-id-10 div.sk-serial {display: flex;flex-direction: column;align-items: center;background-color: white;padding-right: 0.2em;padding-left: 0.2em;position: relative;}#sk-container-id-10 div.sk-item {position: relative;z-index: 1;}#sk-container-id-10 div.sk-parallel {display: flex;align-items: stretch;justify-content: center;background-color: white;position: relative;}#sk-container-id-10 div.sk-item::before, #sk-container-id-10 div.sk-parallel-item::before {content: \"\";position: absolute;border-left: 1px solid gray;box-sizing: border-box;top: 0;bottom: 0;left: 50%;z-index: -1;}#sk-container-id-10 div.sk-parallel-item {display: flex;flex-direction: column;z-index: 1;position: relative;background-color: white;}#sk-container-id-10 div.sk-parallel-item:first-child::after {align-self: flex-end;width: 50%;}#sk-container-id-10 div.sk-parallel-item:last-child::after {align-self: flex-start;width: 50%;}#sk-container-id-10 div.sk-parallel-item:only-child::after {width: 0;}#sk-container-id-10 div.sk-dashed-wrapped {border: 1px dashed gray;margin: 0 0.4em 0.5em 0.4em;box-sizing: border-box;padding-bottom: 0.4em;background-color: white;}#sk-container-id-10 div.sk-label label {font-family: monospace;font-weight: bold;display: inline-block;line-height: 1.2em;}#sk-container-id-10 div.sk-label-container {text-align: center;}#sk-container-id-10 div.sk-container {/* jupyter's `normalize.less` sets `[hidden] { display: none; }` but bootstrap.min.css set `[hidden] { display: none !important; }` so we also need the `!important` here to be able to override the default hidden behavior on the sphinx rendered scikit-learn.org. See: https://github.com/scikit-learn/scikit-learn/issues/21755 */display: inline-block !important;position: relative;}#sk-container-id-10 div.sk-text-repr-fallback {display: none;}</style><div id=\"sk-container-id-10\" class=\"sk-top-container\"><div class=\"sk-text-repr-fallback\"><pre>RandomForestClassifier(random_state=108)</pre><b>In a Jupyter environment, please rerun this cell to show the HTML representation or trust the notebook. <br />On GitHub, the HTML representation is unable to render, please try loading this page with nbviewer.org.</b></div><div class=\"sk-container\" hidden><div class=\"sk-item\"><div class=\"sk-estimator sk-toggleable\"><input class=\"sk-toggleable__control sk-hidden--visually\" id=\"sk-estimator-id-10\" type=\"checkbox\" checked><label for=\"sk-estimator-id-10\" class=\"sk-toggleable__label sk-toggleable__label-arrow\">RandomForestClassifier</label><div class=\"sk-toggleable__content\"><pre>RandomForestClassifier(random_state=108)</pre></div></div></div></div></div>"
      ],
      "text/plain": [
       "RandomForestClassifier(random_state=108)"
      ]
     },
     "execution_count": 349,
     "metadata": {},
     "output_type": "execute_result"
    }
   ],
   "source": [
    "rf_model_n = RandomForestClassifier(random_state = 108,n_estimators = 100)\n",
    "rf_model_n.fit(train_x_n, train_y_n)"
   ]
  },
  {
   "cell_type": "code",
   "execution_count": 352,
   "id": "561f7cc8",
   "metadata": {},
   "outputs": [],
   "source": [
    "with open('saved_model_n','wb') as f:\n",
    "    pickle.dump(rf_model_n,f)"
   ]
  },
  {
   "cell_type": "code",
   "execution_count": 384,
   "id": "93865969",
   "metadata": {},
   "outputs": [],
   "source": [
    "predict_n = rf_model_n.predict(test_x_n) "
   ]
  },
  {
   "cell_type": "code",
   "execution_count": 386,
   "id": "248e38b3",
   "metadata": {},
   "outputs": [],
   "source": [
    "predict_n2 = rf_model_n.predict(train_x_n) "
   ]
  },
  {
   "cell_type": "code",
   "execution_count": 385,
   "id": "a6eccfd4",
   "metadata": {
    "scrolled": true
   },
   "outputs": [
    {
     "name": "stdout",
     "output_type": "stream",
     "text": [
      "              precision    recall  f1-score   support\n",
      "\n",
      "         0.0       0.00      0.00      0.00       0.0\n",
      "         1.0       0.00      0.00      0.00     106.0\n",
      "         2.0       0.00      0.00      0.00       0.0\n",
      "         3.0       0.00      0.00      0.00      65.0\n",
      "         4.0       0.00      0.00      0.00       0.0\n",
      "         5.0       0.00      0.00      0.00      16.0\n",
      "         6.0       0.00      0.00      0.00       0.0\n",
      "         7.0       0.00      0.00      0.00      24.0\n",
      "\n",
      "    accuracy                           0.00     211.0\n",
      "   macro avg       0.00      0.00      0.00     211.0\n",
      "weighted avg       0.00      0.00      0.00     211.0\n",
      "\n",
      "Confusion Matrix\n",
      "[[  0   0   0   0   0   0   0   0]\n",
      " [103   0   3   0   0   0   0   0]\n",
      " [  0   0   0   0   0   0   0   0]\n",
      " [  8   0  53   0   4   0   0   0]\n",
      " [  0   0   0   0   0   0   0   0]\n",
      " [  3   0   3   0  10   0   0   0]\n",
      " [  0   0   0   0   0   0   0   0]\n",
      " [  0   0   2   0   0   0  22   0]]\n",
      "정확도:0.000, 정밀도:0.000, 재현율:0.000, F1-Socre:0.000\n"
     ]
    },
    {
     "name": "stderr",
     "output_type": "stream",
     "text": [
      "C:\\Users\\youna\\Anaconda3\\lib\\site-packages\\sklearn\\metrics\\_classification.py:1469: UndefinedMetricWarning: Precision is ill-defined and being set to 0.0 in labels with no predicted samples. Use `zero_division` parameter to control this behavior.\n",
      "  _warn_prf(average, modifier, msg_start, len(result))\n",
      "C:\\Users\\youna\\Anaconda3\\lib\\site-packages\\sklearn\\metrics\\_classification.py:1469: UndefinedMetricWarning: Recall is ill-defined and being set to 0.0 in labels with no true samples. Use `zero_division` parameter to control this behavior.\n",
      "  _warn_prf(average, modifier, msg_start, len(result))\n",
      "C:\\Users\\youna\\Anaconda3\\lib\\site-packages\\sklearn\\metrics\\_classification.py:1469: UndefinedMetricWarning: Precision and F-score are ill-defined and being set to 0.0 in labels with no predicted samples. Use `zero_division` parameter to control this behavior.\n",
      "  _warn_prf(average, modifier, msg_start, len(result))\n",
      "C:\\Users\\youna\\Anaconda3\\lib\\site-packages\\sklearn\\metrics\\_classification.py:1469: UndefinedMetricWarning: Recall and F-score are ill-defined and being set to 0.0 in labels with no true samples. Use `zero_division` parameter to control this behavior.\n",
      "  _warn_prf(average, modifier, msg_start, len(result))\n",
      "C:\\Users\\youna\\Anaconda3\\lib\\site-packages\\sklearn\\metrics\\_classification.py:1469: UndefinedMetricWarning: Precision and F-score are ill-defined and being set to 0.0 in labels with no predicted samples. Use `zero_division` parameter to control this behavior.\n",
      "  _warn_prf(average, modifier, msg_start, len(result))\n",
      "C:\\Users\\youna\\Anaconda3\\lib\\site-packages\\sklearn\\metrics\\_classification.py:1469: UndefinedMetricWarning: Recall and F-score are ill-defined and being set to 0.0 in labels with no true samples. Use `zero_division` parameter to control this behavior.\n",
      "  _warn_prf(average, modifier, msg_start, len(result))\n",
      "C:\\Users\\youna\\Anaconda3\\lib\\site-packages\\sklearn\\metrics\\_classification.py:1469: UndefinedMetricWarning: Precision and F-score are ill-defined and being set to 0.0 in labels with no predicted samples. Use `zero_division` parameter to control this behavior.\n",
      "  _warn_prf(average, modifier, msg_start, len(result))\n",
      "C:\\Users\\youna\\Anaconda3\\lib\\site-packages\\sklearn\\metrics\\_classification.py:1469: UndefinedMetricWarning: Recall and F-score are ill-defined and being set to 0.0 in labels with no true samples. Use `zero_division` parameter to control this behavior.\n",
      "  _warn_prf(average, modifier, msg_start, len(result))\n"
     ]
    }
   ],
   "source": [
    "score(test_y_n, predict_n)"
   ]
  },
  {
   "cell_type": "code",
   "execution_count": 388,
   "id": "1ea6949e",
   "metadata": {
    "scrolled": false
   },
   "outputs": [
    {
     "name": "stdout",
     "output_type": "stream",
     "text": [
      "              precision    recall  f1-score   support\n",
      "\n",
      "         0.0       0.00      0.00      0.00       0.0\n",
      "         1.0       0.00      0.00      0.00     248.0\n",
      "         2.0       0.00      0.00      0.00       0.0\n",
      "         3.0       0.00      0.00      0.00     167.0\n",
      "         4.0       0.00      0.00      0.00       0.0\n",
      "         5.0       0.00      0.00      0.00      46.0\n",
      "         6.0       0.00      0.00      0.00       0.0\n",
      "         7.0       0.00      0.00      0.00      47.0\n",
      "\n",
      "    accuracy                           0.00     508.0\n",
      "   macro avg       0.00      0.00      0.00     508.0\n",
      "weighted avg       0.00      0.00      0.00     508.0\n",
      "\n",
      "Confusion Matrix\n",
      "[[  0   0   0   0   0   0   0   0]\n",
      " [247   0   1   0   0   0   0   0]\n",
      " [  0   0   0   0   0   0   0   0]\n",
      " [  1   0 166   0   0   0   0   0]\n",
      " [  0   0   0   0   0   0   0   0]\n",
      " [  0   0   0   0  46   0   0   0]\n",
      " [  0   0   0   0   0   0   0   0]\n",
      " [  0   0   0   0   0   0  47   0]]\n",
      "정확도:0.000, 정밀도:0.000, 재현율:0.000, F1-Socre:0.000\n"
     ]
    },
    {
     "name": "stderr",
     "output_type": "stream",
     "text": [
      "C:\\Users\\youna\\Anaconda3\\lib\\site-packages\\sklearn\\metrics\\_classification.py:1469: UndefinedMetricWarning: Precision is ill-defined and being set to 0.0 in labels with no predicted samples. Use `zero_division` parameter to control this behavior.\n",
      "  _warn_prf(average, modifier, msg_start, len(result))\n",
      "C:\\Users\\youna\\Anaconda3\\lib\\site-packages\\sklearn\\metrics\\_classification.py:1469: UndefinedMetricWarning: Recall is ill-defined and being set to 0.0 in labels with no true samples. Use `zero_division` parameter to control this behavior.\n",
      "  _warn_prf(average, modifier, msg_start, len(result))\n",
      "C:\\Users\\youna\\Anaconda3\\lib\\site-packages\\sklearn\\metrics\\_classification.py:1469: UndefinedMetricWarning: Precision and F-score are ill-defined and being set to 0.0 in labels with no predicted samples. Use `zero_division` parameter to control this behavior.\n",
      "  _warn_prf(average, modifier, msg_start, len(result))\n",
      "C:\\Users\\youna\\Anaconda3\\lib\\site-packages\\sklearn\\metrics\\_classification.py:1469: UndefinedMetricWarning: Recall and F-score are ill-defined and being set to 0.0 in labels with no true samples. Use `zero_division` parameter to control this behavior.\n",
      "  _warn_prf(average, modifier, msg_start, len(result))\n",
      "C:\\Users\\youna\\Anaconda3\\lib\\site-packages\\sklearn\\metrics\\_classification.py:1469: UndefinedMetricWarning: Precision and F-score are ill-defined and being set to 0.0 in labels with no predicted samples. Use `zero_division` parameter to control this behavior.\n",
      "  _warn_prf(average, modifier, msg_start, len(result))\n",
      "C:\\Users\\youna\\Anaconda3\\lib\\site-packages\\sklearn\\metrics\\_classification.py:1469: UndefinedMetricWarning: Recall and F-score are ill-defined and being set to 0.0 in labels with no true samples. Use `zero_division` parameter to control this behavior.\n",
      "  _warn_prf(average, modifier, msg_start, len(result))\n",
      "C:\\Users\\youna\\Anaconda3\\lib\\site-packages\\sklearn\\metrics\\_classification.py:1469: UndefinedMetricWarning: Precision and F-score are ill-defined and being set to 0.0 in labels with no predicted samples. Use `zero_division` parameter to control this behavior.\n",
      "  _warn_prf(average, modifier, msg_start, len(result))\n",
      "C:\\Users\\youna\\Anaconda3\\lib\\site-packages\\sklearn\\metrics\\_classification.py:1469: UndefinedMetricWarning: Recall and F-score are ill-defined and being set to 0.0 in labels with no true samples. Use `zero_division` parameter to control this behavior.\n",
      "  _warn_prf(average, modifier, msg_start, len(result))\n"
     ]
    }
   ],
   "source": [
    "score(train_y_n, predict_n2)"
   ]
  },
  {
   "cell_type": "code",
   "execution_count": 381,
   "id": "b1cfe5dd",
   "metadata": {},
   "outputs": [],
   "source": [
    "predict_dt = dt.predict(test_x_n) "
   ]
  },
  {
   "cell_type": "code",
   "execution_count": 382,
   "id": "4a9a4d27",
   "metadata": {},
   "outputs": [
    {
     "name": "stdout",
     "output_type": "stream",
     "text": [
      "              precision    recall  f1-score   support\n",
      "\n",
      "         0.0       0.00      0.00      0.00       0.0\n",
      "         1.0       0.00      0.00      0.00     106.0\n",
      "         2.0       0.00      0.00      0.00       0.0\n",
      "         3.0       0.00      0.00      0.00      65.0\n",
      "         4.0       0.00      0.00      0.00       0.0\n",
      "         5.0       0.00      0.00      0.00      16.0\n",
      "         6.0       0.00      0.00      0.00       0.0\n",
      "         7.0       0.00      0.00      0.00      24.0\n",
      "\n",
      "    accuracy                           0.00     211.0\n",
      "   macro avg       0.00      0.00      0.00     211.0\n",
      "weighted avg       0.00      0.00      0.00     211.0\n",
      "\n",
      "Confusion Matrix\n",
      "[[  0   0   0   0   0   0   0   0]\n",
      " [102   0   4   0   0   0   0   0]\n",
      " [  0   0   0   0   0   0   0   0]\n",
      " [ 27   0  35   0   2   0   1   0]\n",
      " [  0   0   0   0   0   0   0   0]\n",
      " [  5   0   6   0   4   0   1   0]\n",
      " [  0   0   0   0   0   0   0   0]\n",
      " [  0   0   2   0   3   0  19   0]]\n",
      "정확도:0.000, 정밀도:0.000, 재현율:0.000, F1-Socre:0.000\n"
     ]
    },
    {
     "name": "stderr",
     "output_type": "stream",
     "text": [
      "C:\\Users\\youna\\Anaconda3\\lib\\site-packages\\sklearn\\metrics\\_classification.py:1469: UndefinedMetricWarning: Precision is ill-defined and being set to 0.0 in labels with no predicted samples. Use `zero_division` parameter to control this behavior.\n",
      "  _warn_prf(average, modifier, msg_start, len(result))\n",
      "C:\\Users\\youna\\Anaconda3\\lib\\site-packages\\sklearn\\metrics\\_classification.py:1469: UndefinedMetricWarning: Recall is ill-defined and being set to 0.0 in labels with no true samples. Use `zero_division` parameter to control this behavior.\n",
      "  _warn_prf(average, modifier, msg_start, len(result))\n",
      "C:\\Users\\youna\\Anaconda3\\lib\\site-packages\\sklearn\\metrics\\_classification.py:1469: UndefinedMetricWarning: Precision and F-score are ill-defined and being set to 0.0 in labels with no predicted samples. Use `zero_division` parameter to control this behavior.\n",
      "  _warn_prf(average, modifier, msg_start, len(result))\n",
      "C:\\Users\\youna\\Anaconda3\\lib\\site-packages\\sklearn\\metrics\\_classification.py:1469: UndefinedMetricWarning: Recall and F-score are ill-defined and being set to 0.0 in labels with no true samples. Use `zero_division` parameter to control this behavior.\n",
      "  _warn_prf(average, modifier, msg_start, len(result))\n",
      "C:\\Users\\youna\\Anaconda3\\lib\\site-packages\\sklearn\\metrics\\_classification.py:1469: UndefinedMetricWarning: Precision and F-score are ill-defined and being set to 0.0 in labels with no predicted samples. Use `zero_division` parameter to control this behavior.\n",
      "  _warn_prf(average, modifier, msg_start, len(result))\n",
      "C:\\Users\\youna\\Anaconda3\\lib\\site-packages\\sklearn\\metrics\\_classification.py:1469: UndefinedMetricWarning: Recall and F-score are ill-defined and being set to 0.0 in labels with no true samples. Use `zero_division` parameter to control this behavior.\n",
      "  _warn_prf(average, modifier, msg_start, len(result))\n",
      "C:\\Users\\youna\\Anaconda3\\lib\\site-packages\\sklearn\\metrics\\_classification.py:1469: UndefinedMetricWarning: Precision and F-score are ill-defined and being set to 0.0 in labels with no predicted samples. Use `zero_division` parameter to control this behavior.\n",
      "  _warn_prf(average, modifier, msg_start, len(result))\n",
      "C:\\Users\\youna\\Anaconda3\\lib\\site-packages\\sklearn\\metrics\\_classification.py:1469: UndefinedMetricWarning: Recall and F-score are ill-defined and being set to 0.0 in labels with no true samples. Use `zero_division` parameter to control this behavior.\n",
      "  _warn_prf(average, modifier, msg_start, len(result))\n"
     ]
    }
   ],
   "source": [
    "score(test_y_n, predict_dt)"
   ]
  },
  {
   "cell_type": "markdown",
   "id": "91b3b568",
   "metadata": {},
   "source": [
    "# 6. decision tree 학습하기"
   ]
  },
  {
   "cell_type": "code",
   "execution_count": 353,
   "id": "df3946ea",
   "metadata": {},
   "outputs": [],
   "source": [
    "with open(f'train_x_n.pickle', 'wb') as f:\n",
    "    pickle.dump(train_x_n, f)\n",
    "with open(f'test_x_n.pickle', 'wb') as f:\n",
    "    pickle.dump(test_x_n, f)\n",
    "with open(f'train_y_n.pickle', 'wb') as f:\n",
    "    pickle.dump(train_y_n, f)\n",
    "with open(f'test_y_n.pickle', 'wb') as f:\n",
    "    pickle.dump(test_y_n, f)"
   ]
  },
  {
   "cell_type": "markdown",
   "id": "ab9dcf48",
   "metadata": {},
   "source": [
    "# import turstee"
   ]
  },
  {
   "cell_type": "code",
   "execution_count": null,
   "id": "a0bef341",
   "metadata": {},
   "outputs": [],
   "source": [
    "#X, y = datasets.load_iris(return_X_y=True)\n",
    "#X_train, X_test, y_train, y_test = train_test_split(X, y, test_size=0.30)\n",
    "\n",
    "#clf = RandomForestClassifier(n_estimators=100)\n",
    "#clf.fit(X_train, y_train)\n",
    "#y_pred = clf.predict(X_test)\n",
    "\n",
    "trustee = ClassificationTrustee(expert=rf_model)\n",
    "trustee.fit(np.array(train_x), train_y, num_iter=50, num_stability_iter=10, samples_size=0.3, verbose=True)\n",
    "dt, pruned_dt, agreement, reward = trustee.explain()"
   ]
  },
  {
   "cell_type": "code",
   "execution_count": null,
   "id": "be697f3c",
   "metadata": {},
   "outputs": [],
   "source": [
    "graph = graphviz.Source(dot_data)\n",
    "graph.render(\"decision_tree\", format=\"png\", cleanup=True)  # \"decision_tree.png\"로 저장\n",
    "graph.view(\"decision_tree\")  # 시각화 창 열기"
   ]
  },
  {
   "cell_type": "code",
   "execution_count": 380,
   "id": "ffb4c40e",
   "metadata": {},
   "outputs": [],
   "source": [
    "with open(r'E:\\대학원1-1\\인공지능보안\\prunned_model', 'rb') as f:\n",
    "    dt = pickle.load(f)"
   ]
  },
  {
   "cell_type": "markdown",
   "id": "23497979",
   "metadata": {},
   "source": [
    "그래프로 노드 확인하기"
   ]
  },
  {
   "cell_type": "markdown",
   "id": "223da5a6",
   "metadata": {},
   "source": [
    "이상치 년도별로 확인하기"
   ]
  }
 ],
 "metadata": {
  "kernelspec": {
   "display_name": "Python 3 (ipykernel)",
   "language": "python",
   "name": "python3"
  },
  "language_info": {
   "codemirror_mode": {
    "name": "ipython",
    "version": 3
   },
   "file_extension": ".py",
   "mimetype": "text/x-python",
   "name": "python",
   "nbconvert_exporter": "python",
   "pygments_lexer": "ipython3",
   "version": "3.9.12"
  }
 },
 "nbformat": 4,
 "nbformat_minor": 5
}
